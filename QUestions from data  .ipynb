{
 "cells": [
  {
   "cell_type": "markdown",
   "metadata": {},
   "source": [
    "# is there any relation in b/w target and previous application ?"
   ]
  },
  {
   "cell_type": "code",
   "execution_count": 60,
   "metadata": {},
   "outputs": [],
   "source": [
    "import pandas as pd \n",
    "\n",
    "\n",
    "appl_train = pd.read_csv (r'application_train.csv')\n",
    "prev_appl = pd.read_csv(r'previous_application.csv')\n",
    "train_target0 = pd.read_csv('train_target0.csv')\n",
    "train_target1 = pd.read_csv('train_target1.csv')"
   ]
  },
  {
   "cell_type": "code",
   "execution_count": 86,
   "metadata": {},
   "outputs": [],
   "source": [
    "# previous applicants \n",
    "a = appl_train['SK_ID_CURR'].to_list()\n",
    "b = prev_appl['SK_ID_CURR'].to_list()\n",
    "prev_applicants = set(a)&(set(b))\n"
   ]
  },
  {
   "cell_type": "code",
   "execution_count": 112,
   "metadata": {},
   "outputs": [],
   "source": [
    "# new_applicants \n",
    "c= appl_train['SK_ID_CURR'].to_list()\n",
    "d = prev_appl['SK_ID_CURR'].to_list()\n",
    "\n",
    "new_applicants = set(c).difference(set(d))\n",
    "\n"
   ]
  },
  {
   "cell_type": "code",
   "execution_count": 97,
   "metadata": {},
   "outputs": [
    {
     "name": "stdout",
     "output_type": "stream",
     "text": [
      "previous applicants 291057 new applicants 16454 Total 307511\n",
      "len of appl_train file 307511\n"
     ]
    }
   ],
   "source": [
    "print('previous applicants',len(prev_applicants), 'new applicants', len(new_applicants) ,'Total', 291057+16454)\n",
    "print('size  of appl_train file',appl_train['SK_ID_CURR'].size)"
   ]
  },
  {
   "cell_type": "markdown",
   "metadata": {},
   "source": [
    "# save  previous applicants id's as a file "
   ]
  },
  {
   "cell_type": "code",
   "execution_count": 99,
   "metadata": {},
   "outputs": [],
   "source": [
    "prev_applicants = appl_train[appl_train['SK_ID_CURR'].isin(prev_applicants)]\n",
    "prev_applicants.to_csv('prev_applicants.csv')"
   ]
  },
  {
   "cell_type": "markdown",
   "metadata": {},
   "source": [
    "# save  new  applicants id's as a file "
   ]
  },
  {
   "cell_type": "code",
   "execution_count": null,
   "metadata": {},
   "outputs": [],
   "source": [
    "new_applicants = appl_train[appl_train['SK_ID_CURR'].isin(new_applicants)]\n",
    "new_applicants.to_csv('new_applicants.csv')"
   ]
  },
  {
   "cell_type": "markdown",
   "metadata": {},
   "source": [
    "#   GROUP BY TARGET for previous_applicants"
   ]
  },
  {
   "cell_type": "code",
   "execution_count": 1,
   "metadata": {},
   "outputs": [],
   "source": [
    "import pandas as pd \n",
    "\n",
    "prev_applicants = pd.read_csv('prev_applicants.csv')\n",
    "\n",
    "# target 0\n",
    "prev_target = prev_applicants.groupby('TARGET')\n",
    "prev_target0 = prev_target.get_group(0)\n",
    "prev_target0.to_csv('prev_target0.csv')"
   ]
  },
  {
   "cell_type": "code",
   "execution_count": 108,
   "metadata": {},
   "outputs": [],
   "source": [
    "# target 1\n",
    "prev_target1= prev_target.get_group(1)\n",
    "prev_target1.to_csv('prev_target1.csv')"
   ]
  },
  {
   "cell_type": "code",
   "execution_count": 45,
   "metadata": {},
   "outputs": [],
   "source": [
    "#Previous applicants \n",
    "\n",
    "a = appl_train['SK_ID_CURR'].to_list()\n",
    "b = prev_appl['SK_ID_CURR'].to_list()\n",
    "\n",
    "prev_applicants = set(a)&(set(b))\n",
    "#prev_applicants = pd.DataFrame(prev_applicants)\n",
    "prev_applicants = appl_train[appl_train['SK_ID_CURR'].isin(prev_applicants)]\n",
    "prev_applicants.to_csv('prev_applicants.csv')"
   ]
  },
  {
   "cell_type": "markdown",
   "metadata": {},
   "source": [
    "# NEW  APPLICANTS"
   ]
  },
  {
   "cell_type": "code",
   "execution_count": 118,
   "metadata": {},
   "outputs": [],
   "source": [
    "# New applicants = appl train id - prev applid\n",
    "\n",
    "a = appl_train['SK_ID_CURR'].to_list()\n",
    "b = prev_appl['SK_ID_CURR'].to_list()\n",
    "\n",
    "new_applicants = set(a).difference(set(b))\n",
    "\n",
    "#pd.DataFrame(new_applicants)\n",
    "\n",
    "data = appl_train[appl_train['SK_ID_CURR'].isin(new_applicants)]\n",
    "data.to_csv('new_applicants.csv')"
   ]
  },
  {
   "cell_type": "markdown",
   "metadata": {},
   "source": [
    "# GROUPBY TARGET for new applicants "
   ]
  },
  {
   "cell_type": "code",
   "execution_count": 101,
   "metadata": {},
   "outputs": [],
   "source": [
    "data = pd.read_csv('new_applicants.csv')\n",
    "new_applicants = data.groupby('TARGET')\n",
    "new_applicants0 = new_applicants.get_group(0)\n",
    "new_applicants1 = new_applicants.get_group(1)\n",
    "\n",
    "new_applicants1.to_csv('new_applicants1.csv')\n",
    "new_applicants0.to_csv('new_applicants0.csv')"
   ]
  },
  {
   "cell_type": "code",
   "execution_count": 3,
   "metadata": {},
   "outputs": [
    {
     "data": {
      "text/plain": [
       "Index(['Unnamed: 0', 'SK_ID_CURR', 'TARGET', 'NAME_CONTRACT_TYPE',\n",
       "       'CODE_GENDER', 'FLAG_OWN_CAR', 'FLAG_OWN_REALTY', 'CNT_CHILDREN',\n",
       "       'AMT_INCOME_TOTAL', 'AMT_CREDIT',\n",
       "       ...\n",
       "       'FLAG_DOCUMENT_18', 'FLAG_DOCUMENT_19', 'FLAG_DOCUMENT_20',\n",
       "       'FLAG_DOCUMENT_21', 'AMT_REQ_CREDIT_BUREAU_HOUR',\n",
       "       'AMT_REQ_CREDIT_BUREAU_DAY', 'AMT_REQ_CREDIT_BUREAU_WEEK',\n",
       "       'AMT_REQ_CREDIT_BUREAU_MON', 'AMT_REQ_CREDIT_BUREAU_QRT',\n",
       "       'AMT_REQ_CREDIT_BUREAU_YEAR'],\n",
       "      dtype='object', length=123)"
      ]
     },
     "execution_count": 3,
     "metadata": {},
     "output_type": "execute_result"
    }
   ],
   "source": [
    "new_applicants1.columns"
   ]
  }
 ],
 "metadata": {
  "kernelspec": {
   "display_name": "Python 3",
   "language": "python",
   "name": "python3"
  },
  "language_info": {
   "codemirror_mode": {
    "name": "ipython",
    "version": 3
   },
   "file_extension": ".py",
   "mimetype": "text/x-python",
   "name": "python",
   "nbconvert_exporter": "python",
   "pygments_lexer": "ipython3",
   "version": "3.6.9"
  }
 },
 "nbformat": 4,
 "nbformat_minor": 2
}
